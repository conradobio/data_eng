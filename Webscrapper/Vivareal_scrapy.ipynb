{
 "cells": [
  {
   "cell_type": "code",
   "execution_count": 138,
   "id": "5c56a923",
   "metadata": {},
   "outputs": [
    {
     "name": "stdout",
     "output_type": "stream",
     "text": [
      "Mozilla/4.0 (compatible; MSIE 10.0; Windows NT 6.1; Trident/5.0)\n",
      "no more pages left\n"
     ]
    }
   ],
   "source": [
    "import pandas as pd\n",
    "from selenium import webdriver\n",
    "from selenium.webdriver.chrome.options import Options\n",
    "from bs4 import BeautifulSoup\n",
    "from fake_useragent import UserAgent\n",
    "import time\n",
    "\n",
    "def main():\n",
    "    options = Options()\n",
    "    options.add_argument(\"window-size=1400,600\") \n",
    "    ua = UserAgent()\n",
    "    a = ua.random\n",
    "    user_agent = ua.random\n",
    "    print(user_agent)\n",
    "\n",
    "    options.add_argument(f'user-agent={user_agent}')\n",
    "    driver = webdriver.Chrome('chromedriver')\n",
    "    driver.get(\"https://www.vivareal.com.br/venda/sp/santo-andre/apartamento_residencial/\")\n",
    "\n",
    "    time.sleep(2)\n",
    "\n",
    "    #cookies_button = driver.find_element_by_xpath(\"//button[contains(text(), 'Entendi')]\")\n",
    "    #cookies_button.click()\n",
    "\n",
    "    #time.sleep(2)   \n",
    "    \n",
    "    # Lists that we will iterate to\n",
    "    description = []\n",
    "    address = []\n",
    "    prop_area = []\n",
    "    prop_rooms = []\n",
    "    prop_bath = []\n",
    "    prop_parking = []\n",
    "    lazer = []\n",
    "    price_sell = []\n",
    "    price_cond = []\n",
    "    realstate_name = []\n",
    "    \n",
    "    #WITH I WWANT TO SELECT SAME PAGES TO TEXT\n",
    "    \"\"\"for i in range(1,2): \n",
    "        url = 'https://www.vivareal.com.br/venda/sp/santo-andre/apartamento_residencial/?page='+str(i)\n",
    "        driver.get(url)\n",
    "        scrap_data(driver, description, address, prop_area, prop_rooms, prop_bath, prop_parking, lazer, price_sell, price_cond)\n",
    "  \n",
    "    \"\"\"\n",
    "    #WITH I WANT TO SELECT ALL THE PAGES\n",
    "    page = 0\n",
    "    while True:\n",
    "        next_page_btn = driver.find_elements_by_xpath('//a[@title=\"Próxima página\"]')\n",
    "        if len(next_page_btn) <1:\n",
    "            print(\"no more pages left\")\n",
    "            break\n",
    "        else:\n",
    "            page += 1\n",
    "            time.sleep(3)\n",
    "            url = 'https://www.vivareal.com.br/venda/sp/santo-andre/apartamento_residencial/?page='+str(page)\n",
    "            driver.get(url)\n",
    "            print(page)\n",
    "            scrap_data(driver, description, address, prop_area, prop_rooms, prop_bath, prop_parking, lazer, price_sell, price_cond)\n",
    "\n",
    "\n",
    "    data = {\n",
    "        \"Descricao\": description,\n",
    "        \"Endereco\" : address,\n",
    "        \"Area\" : prop_area,\n",
    "        \"Num_Quartos\" : prop_rooms,\n",
    "        \"Num_Ban\" : prop_bath,\n",
    "        \"Num_vagas\" : prop_parking,\n",
    "        \"Lazer\" : lazer,\n",
    "        \"Preco_venda\" : price_sell,\n",
    "        \"Preco_cond\" : price_cond,\n",
    "        #realstate_name = \n",
    "        }\n",
    "    \n",
    "    df = pd.DataFrame.from_dict(data, orient='index')\n",
    "    df = df.transpose()\n",
    "    df.to_csv(\"santo_andre.csv\")\n",
    "    \n",
    "def scrap_data(driver, description, address, prop_area, prop_rooms, prop_bath, prop_parking, lazer, price_sell, price_cond):\n",
    "    time.sleep(7) \n",
    "    html = driver.page_source\n",
    "    soup = BeautifulSoup(html, 'html.parser')\n",
    "    containers = soup.findAll(\"div\",{\"data-type\":\"property\"})\n",
    "\n",
    "    for container in containers:\n",
    "        try:\n",
    "            description.append(container.find(\"span\",{\"class\": \"property-card__title js-cardLink js-card-title\"}).get_text().strip())\n",
    "            address.append(container.find(\"span\",{\"class\": \"property-card__address\"}).get_text().strip())\n",
    "            prop_area.append(container.find(\"span\",{\"class\": \"property-card__detail-value js-property-card-value property-card__detail-area js-property-card-detail-area\"}).get_text().strip())\n",
    "            prop_rooms.append(container.find(\"span\",{\"class\": \"property-card__detail-value js-property-card-value\"}).get_text().strip())\n",
    "            prop_bath.append(container.find(\"li\",{\"class\": \"property-card__detail-item property-card__detail-bathroom js-property-detail-bathroom\"}).get_text().strip())\n",
    "            prop_parking.append(container.find(\"li\",{\"class\": \"property-card__detail-item property-card__detail-garage js-property-detail-garages\"}).get_text().strip())\n",
    "            price_sell.append(container.find(\"div\",{\"class\": \"property-card__price js-property-card-prices js-property-card__price-small\"}).get_text().strip())\n",
    "\n",
    "            \"\"\"\n",
    "            try:\n",
    "                #img = container.find(\"picture\",{\"class\": \"property-card__account-link js-property-card-account-link\"})\n",
    "                img = container.find(\"img\",{\"class\": \"ls-is-cached lazyloaded\"})\n",
    "                #img = container.find(\"img\",{\"class\": \"ls-is-cached lazyloaded\"})\n",
    "                #img = container.find(\"img\")\n",
    "                realstate_name = [img['alt'] for i in img['alt']][0]\n",
    "                #print(realstate_name)\n",
    "                print(realstate_name)\n",
    "\n",
    "            except:\n",
    "                pass\n",
    "\n",
    "\n",
    "            try:\n",
    "                #img = container.find(\"picture\",{\"class\": \"property-card__account-link js-property-card-account-link\"})\n",
    "                img1 = container.find(\"img\",{\"class\": \"lazyloaded\"})\n",
    "                #img = container.find(\"img\")\n",
    "                realstate_name1 = [img1['alt'] for i in img1['alt']][0]\n",
    "                print(realstate_name1)\n",
    "\n",
    "            except:\n",
    "                pass\n",
    "            \"\"\"\n",
    "\n",
    "            try:\n",
    "                price_cond.append(container.find(\"strong\",{\"class\": \"js-condo-price\"}).get_text().strip())  \n",
    "\n",
    "            except:\n",
    "                price_cond.append(0)\n",
    "\n",
    "            try:\n",
    "                lazer.append(container.find(\"ul\",{\"class\": \"property-card__amenities\"}).get_text())\n",
    "\n",
    "            except:\n",
    "                lazer.append('N/A')     \n",
    "\n",
    "        except:\n",
    "            pass\n",
    "\n",
    "\n",
    "if __name__ == '__main__':\n",
    "    main()\n",
    "    "
   ]
  },
  {
   "cell_type": "code",
   "execution_count": null,
   "id": "70349bbf",
   "metadata": {},
   "outputs": [],
   "source": []
  },
  {
   "cell_type": "code",
   "execution_count": 117,
   "id": "d78d9cf4",
   "metadata": {},
   "outputs": [
    {
     "name": "stdout",
     "output_type": "stream",
     "text": [
      "Mozilla/5.0 (Macintosh; Intel Mac OS X 10_8_3) AppleWebKit/537.36 (KHTML, like Gecko) Chrome/27.0.1453.93 Safari/537.36\n"
     ]
    }
   ],
   "source": []
  },
  {
   "cell_type": "code",
   "execution_count": 126,
   "id": "4396ffd2",
   "metadata": {},
   "outputs": [
    {
     "name": "stdout",
     "output_type": "stream",
     "text": [
      "3\n",
      "1\n"
     ]
    },
    {
     "data": {
      "text/plain": [
       "['3', '1']"
      ]
     },
     "execution_count": 126,
     "metadata": {},
     "output_type": "execute_result"
    }
   ],
   "source": [
    "prop_bath = ['3 Banheiros', '1 Banheiro']\n",
    "num_bath = []\n",
    "for i in prop_bath:\n",
    "    b = str(i).replace('Banheiro', '').replace('s', '').replace(' ', '')\n",
    "    print(b)\n",
    "    num_bath += [b]\n",
    "    \n",
    "num_bath"
   ]
  },
  {
   "cell_type": "code",
   "execution_count": null,
   "id": "8737f4bf",
   "metadata": {},
   "outputs": [],
   "source": []
  }
 ],
 "metadata": {
  "kernelspec": {
   "display_name": "Python 3",
   "language": "python",
   "name": "python3"
  },
  "language_info": {
   "codemirror_mode": {
    "name": "ipython",
    "version": 3
   },
   "file_extension": ".py",
   "mimetype": "text/x-python",
   "name": "python",
   "nbconvert_exporter": "python",
   "pygments_lexer": "ipython3",
   "version": "3.8.8"
  }
 },
 "nbformat": 4,
 "nbformat_minor": 5
}
